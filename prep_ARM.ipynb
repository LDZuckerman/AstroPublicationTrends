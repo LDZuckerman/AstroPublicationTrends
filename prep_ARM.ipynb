{
 "cells": [
  {
   "cell_type": "code",
   "execution_count": 26,
   "metadata": {},
   "outputs": [],
   "source": [
    "import pandas as pd\n",
    "import numpy as np\n",
    "import pandas as pd\n",
    "import csv\n",
    "import matplotlib.pyplot as plt"
   ]
  },
  {
   "cell_type": "code",
   "execution_count": 58,
   "metadata": {},
   "outputs": [],
   "source": [
    "'''\n",
    "Turn dataset into \"transaction\"/\"basket\" data\n",
    "'''\n",
    "\n",
    "data = pd.read_csv('../ads_data_clean.csv') \n",
    "trans_data = [] # trans_data = pd.DataFrame(columns=['citation_count', 'year','read_count','download_count','journal_rank'])\n",
    "for i in range(len(data)):\n",
    "    row = data.iloc[i]  \n",
    "    citation_count = 'LowCC' if row['citation_count'] <= -0.27 else 'LowMedCC' if  row['citation_count'] <= 0.16 else 'HighMedCC' if row['citation_count'] <= 1.03 else 'HighCC' if row['citation_count'] <= 2.25 else 'VeryHighCC' # 400, 750, 2000, 3500\n",
    "    read_count = 'LowRC' if row['read_count'] <= -0.5 else 'LowMedRC' if row['read_count'] <= 0.5 else 'HighMedRC' if row['read_count'] <= 2 else 'HighRC' if row['read_count'] <= 4 else 'VeryHighRC' # 1900, 6500, 13500, 23000\n",
    "    download_count = 'LowDC' if row['download_count'] <= -0.75 else 'LowMedDC' if row['download_count'] <= 0 else 'HighMedDC' if row['download_count'] <= 1 else 'HighDC' if 2 < row['download_count'] <= 3 else 'VeryHighDC' # 550, 2000, 4000, 6000, 8000\n",
    "    author_count = 'singleAuth' if row['author_count'] <= -0.4 else 'fewAuth' if row['author_count'] <= -0.3 else 'tensAuths' if row['author_count'] <= 0.07 else 'hundredsAuths' if row['author_count'] <= 3.8 else 'thousandsAuths' #1, 10, 100, 1000\n",
    "    journal_rank = 'lowJR' if row['Journal_Rank'] <= -0.4 else 'lowMedJR' if row['Journal_Rank'] <= 0.25 else 'highMedJR' if  row['Journal_Rank'] <= 1.5 else 'highJR' if row['Journal_Rank'] <=  2.5 else 'veryHighJR'\n",
    "    year = 'VeryOld' if row['year'] <= -1 else 'Old' if row['year'] <= -0.4 else 'Newish' if row['year'] <= 0.2 else 'New' # 2014, 2017, 2020\n",
    "    arxiv_classes = row['arxiv_class'].replace(' ', '').replace('[','').replace(']','').replace('\\'','').split(',')\n",
    "    dat = [citation_count, read_count, download_count, author_count, journal_rank, year] + arxiv_classes\n",
    "    trans_data.append(dat)\n",
    "\n",
    "with open('../ads_data_trans.csv', 'w', newline='') as csvfile:\n",
    "    writer = csv.writer(csvfile)\n",
    "    writer.writerows(trans_data)\n"
   ]
  },
  {
   "cell_type": "code",
   "execution_count": 55,
   "metadata": {},
   "outputs": [
    {
     "name": "stdout",
     "output_type": "stream",
     "text": [
      "1 --> -0.34702266305723767\n",
      "10 --> -0.30929633192598943\n",
      "100 --> 0.06796697938649304\n",
      "1000 --> 3.8406000925113175\n"
     ]
    }
   ],
   "source": [
    "data = pd.read_csv('../ads_data_clean.csv') \n",
    "data_raw = pd.read_csv('../ads_data.csv')\n",
    "\n",
    "# for normed_val in [-1.25, -0.25, 0.25]:\n",
    "#     print(f\"{normed_val} --> {normed_val * np.std(data_raw['year']) + np.mean(data_raw['year'])}\")\n",
    "\n",
    "for val in [1, 10, 100, 1000]:\n",
    "    print(f\"{val} --> {(val - np.mean(data_raw['author_count'])) / np.std(data_raw['author_count'])}\")\n"
   ]
  }
 ],
 "metadata": {
  "kernelspec": {
   "display_name": "general",
   "language": "python",
   "name": "python3"
  },
  "language_info": {
   "codemirror_mode": {
    "name": "ipython",
    "version": 3
   },
   "file_extension": ".py",
   "mimetype": "text/x-python",
   "name": "python",
   "nbconvert_exporter": "python",
   "pygments_lexer": "ipython3",
   "version": "3.10.4"
  }
 },
 "nbformat": 4,
 "nbformat_minor": 2
}
